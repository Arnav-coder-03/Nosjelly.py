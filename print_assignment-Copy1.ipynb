{
 "cells": [
  {
   "cell_type": "code",
   "execution_count": 1,
   "id": "f234bde0",
   "metadata": {},
   "outputs": [
    {
     "name": "stdout",
     "output_type": "stream",
     "text": [
      "Rajesh 456.47865\n",
      "This is my name-  Rajesh\n",
      " This  is my name-  Rajesh \n",
      "This 456.48  is my no: \n"
     ]
    }
   ],
   "source": [
    "## Syntax for reference\n",
    "x = 'Rajesh'\n",
    "y = 456.47865\n",
    "print(x,y)\n",
    "print('This is my name- ',x)\n",
    "print(f\" This  is my name-  {x} \")\n",
    "print(\"This {:.2f}  is my no: \".format(y))"
   ]
  },
  {
   "cell_type": "markdown",
   "id": "c5bb6435",
   "metadata": {},
   "source": [
    "Write a code snippet that uses an f-string to print \"The value of x is 10\" where x = 10. "
   ]
  },
  {
   "cell_type": "code",
   "execution_count": 4,
   "id": "e5e44c47-6ebf-4e57-a314-e1d737b20c23",
   "metadata": {},
   "outputs": [
    {
     "name": "stdout",
     "output_type": "stream",
     "text": [
      "the value of x is 10\n",
      "my fav number is 10\n"
     ]
    }
   ],
   "source": [
    "x=10\n",
    "print(f\"the value of x is {x}\")\n",
    "print(\"my fav number is {}\".format(x))\n",
    "    \n"
   ]
  },
  {
   "cell_type": "markdown",
   "id": "8f45d3a1",
   "metadata": {},
   "source": [
    "\n",
    "Use the .format method to print \"My favorite number is 7\" where the number is stored in a variable num = 7.  "
   ]
  },
  {
   "cell_type": "code",
   "execution_count": 10,
   "id": "3054248c",
   "metadata": {},
   "outputs": [
    {
     "name": "stdout",
     "output_type": "stream",
     "text": [
      "my fav number is 7\n"
     ]
    }
   ],
   "source": [
    " num = 7\n",
    "print (\"my fav number is\",num)"
   ]
  },
  {
   "cell_type": "code",
   "execution_count": 17,
   "id": "c892feb9",
   "metadata": {},
   "outputs": [
    {
     "name": "stdout",
     "output_type": "stream",
     "text": [
      "my variable price 19.99\n"
     ]
    }
   ],
   "source": [
    "a=19.99\n",
    "print(\"my variable price {}\".format(a))"
   ]
  },
  {
   "cell_type": "markdown",
   "id": "e6cc4349",
   "metadata": {},
   "source": [
    "\n",
    "Create a print statement that displays a variable price = 19.99 formatted as currency with two decimal places using an f-string. "
   ]
  },
  {
   "cell_type": "markdown",
   "id": "5e99fa83",
   "metadata": {},
   "source": [
    "\n",
    "Write a print statement that uses the sep parameter to separate the words \"Hello\", \"World\", and \"!\" with commas.  "
   ]
  },
  {
   "cell_type": "code",
   "execution_count": null,
   "id": "302914bb-1c6d-4a94-bdef-395b0b86a51d",
   "metadata": {},
   "outputs": [],
   "source": []
  },
  {
   "cell_type": "markdown",
   "id": "15c2fd1c",
   "metadata": {},
   "source": [
    "Use an format to print the value of pi = 3.14159 with three decimal places.  \n"
   ]
  },
  {
   "cell_type": "code",
   "execution_count": 30,
   "id": "b24ce75c",
   "metadata": {},
   "outputs": [
    {
     "name": "stdout",
     "output_type": "stream",
     "text": [
      " the value of pi = 3.14\n"
     ]
    }
   ],
   "source": []
  },
  {
   "cell_type": "markdown",
   "id": "d33458a5",
   "metadata": {},
   "source": [
    "\n",
    "Write a code snippet that combines a string \"Score:\" and an integer variable points = 95 using an f-string."
   ]
  },
  {
   "cell_type": "code",
   "execution_count": null,
   "id": "dacd3a12",
   "metadata": {},
   "outputs": [
    {
     "name": "stdout",
     "output_type": "stream",
     "text": [
      "Score = 95\n"
     ]
    }
   ],
   "source": []
  },
  {
   "cell_type": "markdown",
   "id": "b79b90b9",
   "metadata": {},
   "source": [
    "\n",
    "Use the .format method to print \"The coordinates are (x, y)\" where x = 5 and y = 10.  "
   ]
  },
  {
   "cell_type": "code",
   "execution_count": 36,
   "id": "c542b4a5",
   "metadata": {},
   "outputs": [
    {
     "name": "stdout",
     "output_type": "stream",
     "text": [
      "The coordinates are (5, 10)\n"
     ]
    }
   ],
   "source": []
  },
  {
   "cell_type": "markdown",
   "id": "75b3bf2c",
   "metadata": {},
   "source": [
    "\n",
    "Write a print statement that displays a variable name = \"Alice\" and her age age = 30 using the .format method with named placeholders."
   ]
  },
  {
   "cell_type": "code",
   "execution_count": 40,
   "id": "6e40acaa",
   "metadata": {},
   "outputs": [
    {
     "name": "stdout",
     "output_type": "stream",
     "text": [
      "Alice,30\n"
     ]
    }
   ],
   "source": []
  },
  {
   "cell_type": "code",
   "execution_count": null,
   "id": "3a452c4c",
   "metadata": {},
   "outputs": [],
   "source": []
  },
  {
   "cell_type": "code",
   "execution_count": null,
   "id": "21c7746d",
   "metadata": {},
   "outputs": [],
   "source": []
  },
  {
   "cell_type": "code",
   "execution_count": null,
   "id": "04dae2cc",
   "metadata": {},
   "outputs": [],
   "source": []
  },
  {
   "cell_type": "code",
   "execution_count": null,
   "id": "cbca29a3",
   "metadata": {},
   "outputs": [],
   "source": []
  },
  {
   "cell_type": "code",
   "execution_count": null,
   "id": "e99c30cb",
   "metadata": {},
   "outputs": [
    {
     "name": "stdout",
     "output_type": "stream",
     "text": [
      "Winston 456.47865\n",
      "This is my name-  Winston\n",
      " This  is my name-  Winston \n",
      "This 456.48  is my no: \n"
     ]
    }
   ],
   "source": [
    "\n"
   ]
  },
  {
   "cell_type": "markdown",
   "id": "00dd3051",
   "metadata": {},
   "source": []
  },
  {
   "cell_type": "code",
   "execution_count": null,
   "id": "cf0984a7",
   "metadata": {},
   "outputs": [],
   "source": []
  },
  {
   "cell_type": "code",
   "execution_count": null,
   "id": "36f83f2e",
   "metadata": {},
   "outputs": [],
   "source": []
  },
  {
   "cell_type": "code",
   "execution_count": null,
   "id": "5f6d4f54",
   "metadata": {},
   "outputs": [],
   "source": []
  },
  {
   "cell_type": "code",
   "execution_count": null,
   "id": "c8e201c1",
   "metadata": {},
   "outputs": [],
   "source": []
  },
  {
   "cell_type": "code",
   "execution_count": null,
   "id": "c2774c01",
   "metadata": {},
   "outputs": [],
   "source": []
  },
  {
   "cell_type": "code",
   "execution_count": null,
   "id": "6b19743c",
   "metadata": {},
   "outputs": [],
   "source": []
  },
  {
   "cell_type": "code",
   "execution_count": null,
   "id": "b19240ad",
   "metadata": {},
   "outputs": [],
   "source": []
  },
  {
   "cell_type": "code",
   "execution_count": null,
   "id": "4cab5589",
   "metadata": {},
   "outputs": [],
   "source": []
  },
  {
   "cell_type": "code",
   "execution_count": null,
   "id": "466c366a",
   "metadata": {},
   "outputs": [],
   "source": []
  }
 ],
 "metadata": {
  "kernelspec": {
   "display_name": "Python 3 (ipykernel)",
   "language": "python",
   "name": "python3"
  },
  "language_info": {
   "codemirror_mode": {
    "name": "ipython",
    "version": 3
   },
   "file_extension": ".py",
   "mimetype": "text/x-python",
   "name": "python",
   "nbconvert_exporter": "python",
   "pygments_lexer": "ipython3",
   "version": "3.12.7"
  }
 },
 "nbformat": 4,
 "nbformat_minor": 5
}
